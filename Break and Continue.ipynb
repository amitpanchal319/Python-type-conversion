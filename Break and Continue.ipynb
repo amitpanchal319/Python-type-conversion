{
 "cells": [
  {
   "cell_type": "code",
   "execution_count": 73,
   "id": "dc6ce7c0-fb95-471b-b9c8-e03015e3c4b9",
   "metadata": {},
   "outputs": [
    {
     "name": "stdout",
     "output_type": "stream",
     "text": [
      "1\n",
      "2\n",
      "3\n",
      "4\n"
     ]
    }
   ],
   "source": [
    "# 1. Write a program to print numbers from 1 to 10, but stop if the number is 5.\n",
    "\n",
    "for num in range(1, 11):\n",
    "    if num ==5:\n",
    "        break\n",
    "    print(num)\n",
    "\n",
    "\n",
    "\n"
   ]
  },
  {
   "cell_type": "code",
   "execution_count": 76,
   "id": "3bab0346-02d4-4895-9388-68da3041412c",
   "metadata": {},
   "outputs": [
    {
     "name": "stdout",
     "output_type": "stream",
     "text": [
      "Found 5 Stopping the iteration\n"
     ]
    }
   ],
   "source": [
    "# 2. Write a program to iterate through a list and stop when encountering a specific element.\n",
    "\n",
    "lst = [1,2,3,4,6,5,7,8,9,10]\n",
    "for i in lst:\n",
    "    if i == 5:\n",
    "        print(\"Found 5 Stopping the iteration\")\n",
    "        break \n",
    "        print(i)"
   ]
  },
  {
   "cell_type": "code",
   "execution_count": 79,
   "id": "c9b63ccf-533f-4190-b340-dd87bfe28a48",
   "metadata": {},
   "outputs": [
    {
     "name": "stdout",
     "output_type": "stream",
     "text": [
      "1\n",
      "3\n",
      "5\n",
      "7\n",
      "9\n"
     ]
    }
   ],
   "source": [
    "# 3. Write a program to skip printing even numbers from 1 to 10.\n",
    "\n",
    "for i in range(1,11):\n",
    "    if i %2 == 0:\n",
    "        continue\n",
    "    print(i)"
   ]
  },
  {
   "cell_type": "code",
   "execution_count": 80,
   "id": "693154fe-6774-49f9-86d4-e252f50ee553",
   "metadata": {},
   "outputs": [
    {
     "name": "stdout",
     "output_type": "stream",
     "text": [
      "0\n",
      "1\n",
      "2\n",
      "3\n",
      "4\n",
      "5\n",
      "6\n",
      "7\n",
      "8\n",
      "9\n"
     ]
    }
   ],
   "source": [
    "# 4. Write a program to print numbers from 0 to 9 using range().\n",
    "\n",
    "for num in range(10):\n",
    "    print(num)\n"
   ]
  },
  {
   "cell_type": "code",
   "execution_count": 81,
   "id": "c97d6c40-eba4-4317-8690-103d2ee55578",
   "metadata": {},
   "outputs": [
    {
     "name": "stdout",
     "output_type": "stream",
     "text": [
      "Multiplication table for 1:\n",
      "1 x 1 = 1\n",
      "\n",
      "Multiplication table for 2:\n",
      "2 x 1 = 2\n",
      "\n",
      "Multiplication table for 3:\n",
      "3 x 1 = 3\n",
      "\n",
      "Multiplication table for 4:\n",
      "4 x 1 = 4\n",
      "\n",
      "Multiplication table for 5:\n",
      "5 x 1 = 5\n",
      "\n"
     ]
    }
   ],
   "source": [
    "\n",
    "\"\"\" 5. Write a program to print multiplication tables from 1 to 5, but stop after the first table is printed for each\n",
    "number.\"\"\"\n",
    "\n",
    "# Loop through numbers from 1 to 5\n",
    "for i in range(1, 6):\n",
    "    print(f\"Multiplication table for {i}:\")\n",
    "    \n",
    "    # Loop for multiplication table\n",
    "    for j in range(1, 2):  # This loop only runs once for each i\n",
    "        print(f\"{i} x {j} = {i * j}\")\n",
    "    \n",
    "    print()  # Add a blank line after each table\n"
   ]
  },
  {
   "cell_type": "code",
   "execution_count": null,
   "id": "86eaabf8-f12f-40bb-8380-c5f477ff9c5d",
   "metadata": {},
   "outputs": [],
   "source": [
    "# 6. Write a program to skip printing even numbers using a while loop.\n",
    "\n",
    "num = 1 \n",
    "while num <= 10:\n",
    "    if num %2 == 0:\n",
    "        num+=1 \n",
    "        continue \n",
    "    print(num)\n",
    "    num += 1\n",
    "    "
   ]
  },
  {
   "cell_type": "code",
   "execution_count": null,
   "id": "38a86eda-2af2-4d33-9ab9-75d224a5fc25",
   "metadata": {},
   "outputs": [],
   "source": []
  },
  {
   "cell_type": "code",
   "execution_count": null,
   "id": "af1cf1bc-56ee-4f1c-8d16-d8ab4b2c6e9d",
   "metadata": {},
   "outputs": [],
   "source": []
  }
 ],
 "metadata": {
  "kernelspec": {
   "display_name": "Python 3 (ipykernel)",
   "language": "python",
   "name": "python3"
  },
  "language_info": {
   "codemirror_mode": {
    "name": "ipython",
    "version": 3
   },
   "file_extension": ".py",
   "mimetype": "text/x-python",
   "name": "python",
   "nbconvert_exporter": "python",
   "pygments_lexer": "ipython3",
   "version": "3.11.11"
  }
 },
 "nbformat": 4,
 "nbformat_minor": 5
}
