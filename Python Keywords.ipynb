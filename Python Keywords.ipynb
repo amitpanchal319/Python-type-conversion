{
 "cells": [
  {
   "cell_type": "code",
   "execution_count": 60,
   "id": "dc6ce7c0-fb95-471b-b9c8-e03015e3c4b9",
   "metadata": {},
   "outputs": [
    {
     "name": "stdout",
     "output_type": "stream",
     "text": [
      "7\n"
     ]
    }
   ],
   "source": [
    "# 1. Explain the significance of Python keywords and provide examples of five keywords.\n",
    "\n",
    "\"\"\"num = -6\n",
    "if num >=0:\n",
    "    print(\"The number is Positive\")\n",
    "else:\n",
    "    print(\"The Number is Negative\")\"\"\"\n",
    "\"\"\"for i in range(5):\n",
    "    print(i)\"\"\"\n",
    "\n",
    "a = 6\n",
    "b = 8\n",
    "def add (a, b):\n",
    "    return a+b\n",
    "result = add(3,4)\n",
    "print(result)\n",
    "\n"
   ]
  },
  {
   "cell_type": "code",
   "execution_count": null,
   "id": "25e5ec16-a2ae-4e59-a2f9-bcf1f729528f",
   "metadata": {},
   "outputs": [],
   "source": []
  }
 ],
 "metadata": {
  "kernelspec": {
   "display_name": "Python 3 (ipykernel)",
   "language": "python",
   "name": "python3"
  },
  "language_info": {
   "codemirror_mode": {
    "name": "ipython",
    "version": 3
   },
   "file_extension": ".py",
   "mimetype": "text/x-python",
   "name": "python",
   "nbconvert_exporter": "python",
   "pygments_lexer": "ipython3",
   "version": "3.11.11"
  }
 },
 "nbformat": 4,
 "nbformat_minor": 5
}
