{
 "cells": [
  {
   "cell_type": "code",
   "execution_count": 61,
   "id": "dc6ce7c0-fb95-471b-b9c8-e03015e3c4b9",
   "metadata": {},
   "outputs": [
    {
     "name": "stdout",
     "output_type": "stream",
     "text": [
      "1\n",
      "2\n",
      "3\n",
      "4\n",
      "5\n"
     ]
    }
   ],
   "source": [
    "# 1. Print numbers from 1 to 5 using a while loop.\n",
    "\n",
    "num = 1 \n",
    "while num <= 5:\n",
    "    print(num)\n",
    "    num+=1\n",
    "\n",
    "\n"
   ]
  },
  {
   "cell_type": "code",
   "execution_count": 63,
   "id": "25e5ec16-a2ae-4e59-a2f9-bcf1f729528f",
   "metadata": {},
   "outputs": [
    {
     "name": "stdout",
     "output_type": "stream",
     "text": [
      "55\n"
     ]
    }
   ],
   "source": [
    "# 2. Calculate the sum of numbers from 1 to 10 using a while loop.\n",
    "num = 1 \n",
    "total_sum = 0\n",
    "while num <=10:\n",
    "    total_sum += num\n",
    "    num+=1\n",
    "print(total_sum)"
   ]
  },
  {
   "cell_type": "code",
   "execution_count": 65,
   "id": "0ce266f3-e9ba-48ef-af0b-1404ec124b3a",
   "metadata": {},
   "outputs": [
    {
     "name": "stdout",
     "output_type": "stream",
     "text": [
      "120\n"
     ]
    }
   ],
   "source": [
    "# 3. Calculate the factorial of a number using a for loop.\n",
    "num = 5 \n",
    "fact_num = 1 \n",
    "for i in range(1, num+1):\n",
    "    fact_num *= i\n",
    "print(fact_num)"
   ]
  },
  {
   "cell_type": "code",
   "execution_count": 67,
   "id": "f0101d31-5bb7-4641-9c82-d37ac78aafd0",
   "metadata": {},
   "outputs": [
    {
     "name": "stdout",
     "output_type": "stream",
     "text": [
      "3\n"
     ]
    }
   ],
   "source": [
    "# 4.Count the number of vowels in a string using a for loop.\n",
    "\n",
    "input_string = \"Hello World!\"\n",
    "vowels = \"aeiouAEIOU\"\n",
    "vowels_count = 0\n",
    "\n",
    "for char in input_string:\n",
    "    if char in vowels:\n",
    "        vowels_count +=1  # Increment the count if the character is a vowel\n",
    "print(vowels_count)"
   ]
  },
  {
   "cell_type": "code",
   "execution_count": 68,
   "id": "7738354a-bbf0-41ef-b2ff-defdbf5d1012",
   "metadata": {},
   "outputs": [
    {
     "name": "stdout",
     "output_type": "stream",
     "text": [
      "* \n",
      "* * \n",
      "* * * \n",
      "* * * * \n",
      "* * * * * \n"
     ]
    }
   ],
   "source": [
    "# 4. Print a pattern using nested loops.\n",
    "# Number of rows for the pattern\n",
    "rows = 5\n",
    "for i in range(1, rows + 1):\n",
    "    # Inner loop for printing stars in each row\n",
    "    for j in range(1, i + 1):\n",
    "        print(\"*\", end=\" \")  # Print star without moving to the next line\n",
    "    print()  # Move to the next line after each row\n"
   ]
  },
  {
   "cell_type": "code",
   "execution_count": null,
   "id": "2b983b21-4ff1-4d02-a683-817fb0d40533",
   "metadata": {},
   "outputs": [],
   "source": [
    "# 5. Generate a multiplication table using nested loops.\n",
    "\n",
    "for i in range(1, 11):  # Outer loop for rows (multiplicands)\n",
    "    for j in range(1, 11):  # Inner loop for columns (multipliers)\n",
    "        print(f\"{i * j}\", end=\"\\t\")  # Print the product and separate with tabs\n",
    "    print()  # Move to the next line after each row\n"
   ]
  }
 ],
 "metadata": {
  "kernelspec": {
   "display_name": "Python 3 (ipykernel)",
   "language": "python",
   "name": "python3"
  },
  "language_info": {
   "codemirror_mode": {
    "name": "ipython",
    "version": 3
   },
   "file_extension": ".py",
   "mimetype": "text/x-python",
   "name": "python",
   "nbconvert_exporter": "python",
   "pygments_lexer": "ipython3",
   "version": "3.11.11"
  }
 },
 "nbformat": 4,
 "nbformat_minor": 5
}
