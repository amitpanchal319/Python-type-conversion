{
 "cells": [
  {
   "cell_type": "code",
   "execution_count": 26,
   "id": "dc6ce7c0-fb95-471b-b9c8-e03015e3c4b9",
   "metadata": {},
   "outputs": [
    {
     "name": "stdout",
     "output_type": "stream",
     "text": [
      "7\n",
      "3\n",
      "10\n"
     ]
    }
   ],
   "source": [
    "# 1. Calculate the sum, difference, product, and quotient of two numbers.\n",
    "\n",
    "a = 2\n",
    "b = 5\n",
    "sum_result =(a+b)\n",
    "difference_result = (b-a)\n",
    "product_result =(a*b)\n",
    "\n",
    "print(sum_result)\n",
    "print(difference_result)\n",
    "print(product_result)\n",
    "\n"
   ]
  },
  {
   "cell_type": "code",
   "execution_count": 35,
   "id": "caf7f2e4-1573-4bde-90bb-60aef51318c1",
   "metadata": {},
   "outputs": [
    {
     "name": "stdout",
     "output_type": "stream",
     "text": [
      "after 'num+=5':15\n",
      "after 'num-=3':12\n",
      "after 'num*=3':36\n",
      "after 'num%=2':0\n",
      "after 'num/=4':0.0\n"
     ]
    }
   ],
   "source": [
    "# 2. Perform various assignment operations on a variable.\n",
    "\n",
    "num = 10 \n",
    "num+=5 \n",
    "print(f\"after 'num+=5':{num}\")\n",
    "num-=3 \n",
    "print(f\"after 'num-=3':{num}\")\n",
    "num*=3 \n",
    "print(f\"after 'num*=3':{num}\")\n",
    "num%=2 \n",
    "print(f\"after 'num%=2':{num}\")\n",
    "num/=4 \n",
    "print(f\"after 'num/=4':{num}\")"
   ]
  },
  {
   "cell_type": "code",
   "execution_count": 39,
   "id": "72a83076-7399-4af5-9ba6-a2ff14e175c0",
   "metadata": {},
   "outputs": [
    {
     "name": "stdout",
     "output_type": "stream",
     "text": [
      "B is greater than A\n"
     ]
    }
   ],
   "source": [
    "# 3. Compare two numbers and print the results.\n",
    "a = 20 \n",
    "b = 26\n",
    "if a <= b:\n",
    "    print(\"B is greater than A\")\n",
    "else:\n",
    "    print(False)\n",
    "\n"
   ]
  },
  {
   "cell_type": "code",
   "execution_count": 40,
   "id": "37713525-d8b6-4cd8-af05-45d2163cf7ec",
   "metadata": {},
   "outputs": [
    {
     "name": "stdout",
     "output_type": "stream",
     "text": [
      "False\n"
     ]
    }
   ],
   "source": [
    "# 4. Check conditions using logical operators.\n",
    "a = 30 \n",
    "b = 38\n",
    "\n",
    "print(a>=b)"
   ]
  },
  {
   "cell_type": "code",
   "execution_count": 42,
   "id": "358c0318-2d8b-441d-b09f-0239cddbe101",
   "metadata": {},
   "outputs": [
    {
     "name": "stdout",
     "output_type": "stream",
     "text": [
      "Same\n"
     ]
    }
   ],
   "source": [
    "# 5. Check the identity of variables.\n",
    "a = 10\n",
    "b = 10 \n",
    "\n",
    "if a is b:\n",
    "    print(\"Same\")\n",
    "else:\n",
    "    print(\"not same both numbers\")"
   ]
  },
  {
   "cell_type": "code",
   "execution_count": 43,
   "id": "c05ef2c9-6f3c-47ac-bd79-8500d57e6f0d",
   "metadata": {},
   "outputs": [
    {
     "name": "stdout",
     "output_type": "stream",
     "text": [
      "12 & 5 = 4 (0b100)\n",
      "12 | 5 = 13 (0b1101)\n",
      "12 ^ 5 = 9 (0b1001)\n",
      "~12 = -13 (-0b1101)\n",
      "12 << 2 = 48 (0b110000)\n",
      "12 >> 2 = 3 (0b11)\n"
     ]
    }
   ],
   "source": [
    "# 6. Perform bitwise operations on any two integers.\n",
    "\n",
    "# Initialize two numbers\n",
    "num1 = 12   # 1100 in binary\n",
    "num2 = 5    # 0101 in binary\n",
    "\n",
    "# Bitwise AND\n",
    "and_result = num1 & num2\n",
    "print(f\"{num1} & {num2} = {and_result} ({bin(and_result)})\")\n",
    "\n",
    "# Bitwise OR\n",
    "or_result = num1 | num2\n",
    "print(f\"{num1} | {num2} = {or_result} ({bin(or_result)})\")\n",
    "\n",
    "# Bitwise XOR\n",
    "xor_result = num1 ^ num2\n",
    "print(f\"{num1} ^ {num2} = {xor_result} ({bin(xor_result)})\")\n",
    "\n",
    "# Bitwise NOT\n",
    "not_result = ~num1\n",
    "print(f\"~{num1} = {not_result} ({bin(not_result)})\")\n",
    "\n",
    "# Left Shift\n",
    "left_shift_result = num1 << 2\n",
    "print(f\"{num1} << 2 = {left_shift_result} ({bin(left_shift_result)})\")\n",
    "\n",
    "# Right Shift\n",
    "right_shift_result = num1 >> 2\n",
    "print(f\"{num1} >> 2 = {right_shift_result} ({bin(right_shift_result)})\")\n"
   ]
  },
  {
   "cell_type": "code",
   "execution_count": 44,
   "id": "c103f6b9-e833-42d1-bd64-1de8efd038ca",
   "metadata": {},
   "outputs": [
    {
     "name": "stdout",
     "output_type": "stream",
     "text": [
      "-10\n"
     ]
    }
   ],
   "source": [
    "# 7. Use unary operators to change the sign of a number.\n",
    "\n",
    "num = 10\n",
    "neg_num = (-num)\n",
    "\n",
    "print(neg_num)"
   ]
  },
  {
   "cell_type": "code",
   "execution_count": 50,
   "id": "b0dc9ad2-1bf9-40f2-b0cb-d0ea32eb76cf",
   "metadata": {},
   "outputs": [
    {
     "name": "stdout",
     "output_type": "stream",
     "text": [
      "The number is Positive\n"
     ]
    }
   ],
   "source": [
    "# 8. Use the ternary operator to assign values based on conditions.\n",
    "num = -13\n",
    "result = \"Positive\" if num > 0 else \"Negative or Zero\"\n",
    "print(f\"The number is {result}\")"
   ]
  },
  {
   "cell_type": "code",
   "execution_count": null,
   "id": "25e5ec16-a2ae-4e59-a2f9-bcf1f729528f",
   "metadata": {},
   "outputs": [],
   "source": []
  }
 ],
 "metadata": {
  "kernelspec": {
   "display_name": "Python 3 (ipykernel)",
   "language": "python",
   "name": "python3"
  },
  "language_info": {
   "codemirror_mode": {
    "name": "ipython",
    "version": 3
   },
   "file_extension": ".py",
   "mimetype": "text/x-python",
   "name": "python",
   "nbconvert_exporter": "python",
   "pygments_lexer": "ipython3",
   "version": "3.11.11"
  }
 },
 "nbformat": 4,
 "nbformat_minor": 5
}
