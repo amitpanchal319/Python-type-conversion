{
 "cells": [
  {
   "cell_type": "code",
   "execution_count": 1,
   "id": "dc6ce7c0-fb95-471b-b9c8-e03015e3c4b9",
   "metadata": {},
   "outputs": [
    {
     "name": "stdout",
     "output_type": "stream",
     "text": [
      "2.0\n"
     ]
    }
   ],
   "source": [
    "# 1. Convert an integer to a floating-point number.\n",
    "\n",
    "num = 2 \n",
    "floating = float(num)\n",
    "\n",
    "print(floating)"
   ]
  },
  {
   "cell_type": "code",
   "execution_count": 3,
   "id": "d9b269f1-852e-4b41-a65a-b791709a7228",
   "metadata": {},
   "outputs": [
    {
     "name": "stdout",
     "output_type": "stream",
     "text": [
      "3\n"
     ]
    }
   ],
   "source": [
    "# 2. Convert a float to an integer.\n",
    "\n",
    "float_num = 3.5 \n",
    "numbering = int(float_num)\n",
    "\n",
    "print(numbering) "
   ]
  },
  {
   "cell_type": "code",
   "execution_count": 4,
   "id": "95aa1fdf-780c-4262-aab7-4368028583f8",
   "metadata": {},
   "outputs": [
    {
     "name": "stdout",
     "output_type": "stream",
     "text": [
      "3\n"
     ]
    }
   ],
   "source": [
    "#3. Convert an integer to a string.\n",
    "\n",
    "num = 3\n",
    "string = str(num) \n",
    "print(string)"
   ]
  },
  {
   "cell_type": "code",
   "execution_count": 6,
   "id": "22c0a3ec-d4ce-4b96-8617-fe733749d23d",
   "metadata": {},
   "outputs": [
    {
     "name": "stdout",
     "output_type": "stream",
     "text": [
      "(2, 4, 5, 6, 7, 9)\n"
     ]
    }
   ],
   "source": [
    "# 4. Convert a list to a tuple.\n",
    "\n",
    "l = [2,4,5,6,7,9]\n",
    "tup = tuple(l)\n",
    "\n",
    "print(tup)"
   ]
  },
  {
   "cell_type": "code",
   "execution_count": null,
   "id": "c4915034-12c2-42aa-b9bb-16187194b59b",
   "metadata": {},
   "outputs": [],
   "source": []
  },
  {
   "cell_type": "code",
   "execution_count": 7,
   "id": "70c92673-940d-4111-9182-30af1def0d35",
   "metadata": {},
   "outputs": [
    {
     "name": "stdout",
     "output_type": "stream",
     "text": [
      "[3, 4, 5, 7, 8, 9, 2]\n"
     ]
    }
   ],
   "source": [
    "# 5. Convert a tuple to a list.\n",
    "t = (3,4,5,7,8,9,2)\n",
    "lst = list(t)\n",
    "\n",
    "print(lst)"
   ]
  },
  {
   "cell_type": "code",
   "execution_count": 10,
   "id": "ed4d9514-474b-4904-91c4-4d7d5587fa0d",
   "metadata": {},
   "outputs": [
    {
     "name": "stdin",
     "output_type": "stream",
     "text": [
      "Enter a Decimal number:  29\n"
     ]
    },
    {
     "name": "stdout",
     "output_type": "stream",
     "text": [
      "Binary number is: 11101\n"
     ]
    }
   ],
   "source": [
    "# 6. Convert a decimal number to binary.\n",
    "decimal_num = int(input(\"Enter a Decimal number: \"))\n",
    "binary = \"\"\n",
    "\n",
    "if decimal_num == 0:\n",
    "    binary = \"0\"\n",
    "else:\n",
    "    while decimal_num > 0:\n",
    "        remainder = decimal_num % 2 \n",
    "        binary = str(remainder) + binary \n",
    "        decimal_num = decimal_num//2\n",
    "\n",
    "print(\"Binary number is:\", binary)\n",
    "    \n",
    "                  "
   ]
  },
  {
   "cell_type": "code",
   "execution_count": 15,
   "id": "ef0dce84-ff6e-4bef-9ff6-75ee6b8f9d8b",
   "metadata": {},
   "outputs": [
    {
     "name": "stdin",
     "output_type": "stream",
     "text": [
      "enter a number: 0\n"
     ]
    },
    {
     "name": "stdout",
     "output_type": "stream",
     "text": [
      " the boolean value of 0 is: False\n"
     ]
    }
   ],
   "source": [
    "# 7. Convert a non-zero number to boolean.\n",
    "number = int(input(\"enter a number:\"))\n",
    "boolean_value = bool(number) \n",
    "print(f\" the boolean value of {number} is: {boolean_value}\")\n",
    "            \n"
   ]
  },
  {
   "cell_type": "code",
   "execution_count": null,
   "id": "1f3f5817-2791-4319-b613-bdfbda0272b0",
   "metadata": {},
   "outputs": [],
   "source": []
  }
 ],
 "metadata": {
  "kernelspec": {
   "display_name": "Python 3 (ipykernel)",
   "language": "python",
   "name": "python3"
  },
  "language_info": {
   "codemirror_mode": {
    "name": "ipython",
    "version": 3
   },
   "file_extension": ".py",
   "mimetype": "text/x-python",
   "name": "python",
   "nbconvert_exporter": "python",
   "pygments_lexer": "ipython3",
   "version": "3.11.11"
  }
 },
 "nbformat": 4,
 "nbformat_minor": 5
}
